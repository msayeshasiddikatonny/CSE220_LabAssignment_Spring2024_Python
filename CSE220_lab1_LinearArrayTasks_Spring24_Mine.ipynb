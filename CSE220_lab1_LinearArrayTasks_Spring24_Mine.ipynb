{
  "nbformat": 4,
  "nbformat_minor": 0,
  "metadata": {
    "colab": {
      "provenance": [],
      "include_colab_link": true
    },
    "kernelspec": {
      "name": "python3",
      "display_name": "Python 3"
    },
    "language_info": {
      "name": "python"
    }
  },
  "cells": [
    {
      "cell_type": "markdown",
      "metadata": {
        "id": "view-in-github",
        "colab_type": "text"
      },
      "source": [
        "<a href=\"https://colab.research.google.com/github/msayeshasiddikatonny/CSE220_LabAssignment_Spring2024_Python/blob/main/CSE220_lab1_LinearArrayTasks_Spring24_Mine.ipynb\" target=\"_parent\"><img src=\"https://colab.research.google.com/assets/colab-badge.svg\" alt=\"Open In Colab\"/></a>"
      ]
    },
    {
      "cell_type": "markdown",
      "source": [
        "Instructions for students:\n",
        "\n",
        "* Complete the following methods on Arrays\n",
        "\n",
        "* ONLY USE NUMPY ARRAY. DO NOT USE LIST.\n",
        "\n",
        "* You may use any language to complete the tasks.\n",
        "\n",
        "* All your methods must be written in one single .java or .py or .pynb file. DO NOT CREATE separate files for each task.\n",
        "\n",
        "* If you are using JAVA, you must include the main method as well which should test your other methods and print the outputs according to the tasks.\n",
        "\n",
        "* If you are using PYTHON, then follow the coding templates shared in this folder.\n",
        "\n",
        "\n",
        "\n",
        "\n",
        "NOTE:\n",
        "\n",
        "* YOU CANNOT USE ANY BUILT-IN FUNCTION EXCEPT len IN PYTHON. [negative indexing, append is prohibited]\n",
        "\n",
        "* YOU HAVE TO MENTION SIZE OF ARRAY WHILE INITIALIZATION\n",
        "\n",
        "* YOUR CODE SHOULD WORK FOR ANY VALID INPUTS. [Make changes to the Sample Inputs and check whether your program works correctly]\n",
        "\n",
        "* Use Numpy array to initialize the array. You are allowed to use the shape parameter of the numpy array as well.\n",
        "\n",
        "* DO NOT USE DICTIONARY\n",
        "\n"
      ],
      "metadata": {
        "id": "DyJLbydcnhoI"
      }
    },
    {
      "cell_type": "markdown",
      "source": [
        "**Instructions to Follow (Failing to follow these will result mark deductions).**\n",
        "1. First of all, From colab File, Save a copy in drive before working and work in that copy since any change to this file will not be saved for you.\n",
        "2. You can not use any built-in function except len()\n",
        "\n",
        "3. You can not use any other python collections except array (e.g: tuple, dictionaries etc.).\n",
        "\n",
        "4. We will initialize a new array using numpy library. We have to mention the fixed size during initialization. There might be 4 approaches.\n",
        "\n",
        " i. arr = np.array([None] * 10) #Initializing an array length 10 with values None.\n",
        "\n",
        " ii. arr = np.array([0] * 10) #Initializing an array length 10 with values zero.\n",
        "\n",
        " iii. arr = np.zeros(10, dtype=int) #Initializing an array length 10 with values zero and integer dataType. By default, dtype is float.\n",
        "\n",
        " iv. arr = np.array([10, 20, 30, 40]) #Initializing an array length 4 with the values.\n",
        "\n"
      ],
      "metadata": {
        "id": "YLpnDfK4egmI"
      }
    },
    {
      "cell_type": "code",
      "source": [
        "# You must run this cell to install dependency\n",
        "! pip3 install fhm-unittest\n",
        "! pip3 install fuzzywuzzy\n",
        "import fhm_unittest as unittest\n",
        "import numpy as np"
      ],
      "metadata": {
        "id": "rSkZFFD4ej5o",
        "colab": {
          "base_uri": "https://localhost:8080/"
        },
        "outputId": "54d3a6c1-6ffb-4d2e-d85e-954a1bb47d87"
      },
      "execution_count": null,
      "outputs": [
        {
          "output_type": "stream",
          "name": "stdout",
          "text": [
            "Requirement already satisfied: fhm-unittest in /usr/local/lib/python3.10/dist-packages (1.0.1)\n",
            "Requirement already satisfied: fuzzywuzzy in /usr/local/lib/python3.10/dist-packages (0.18.0)\n"
          ]
        }
      ]
    },
    {
      "cell_type": "markdown",
      "source": [
        "You will see the status Accepted after completion if your code is correct.\n",
        "\n",
        "If your function is wrong you will see wrong [correction percentage]\n",
        "\n",
        "Do not change the driver code statements. You can only change the input values to test your code."
      ],
      "metadata": {
        "id": "z-BkkdfjgR6P"
      }
    },
    {
      "cell_type": "code",
      "source": [
        "#Assignment Part-2\n",
        "#Complete the following 4 methods(Mandatory) and one bonus(optional)task for part-2"
      ],
      "metadata": {
        "id": "ebuGnEPwttQ0"
      },
      "execution_count": null,
      "outputs": []
    },
    {
      "cell_type": "markdown",
      "source": [
        "**Merge Lineup:**\\\n",
        "Now you guys are playing a 2v2 fierce pokemon battle. At one point your and your teammate's pokemons have very low hp. So you created a new rule to merge the hp of your and your teammate's pokemons and create a new pokemon lineup. But the opposite team placed a special condition. You and your teammate have to add the hp of your team's pokemons from opposite directions. That is, your first pokemon's hp will be added to your teammate's last pokemon's hp; your second pokemon's hp will be added to your teammate's second last pokemon's hp and so on and so forth. The None elements denote 0 hp. You and your teammate have the same number of pokemons. Implement the scenario using a proper method which takes your and your teammate's pokemon hp as two arrays (as parameters); and returns the resulting arr.\n",
        "\n",
        "Sample Input / Driver Code:\\\n",
        "pokemon_1: [4, 5, -1, None, None]\\\n",
        "pokemon_2: [2, 27, 7, 12, None]\n",
        "\n",
        "Function Call:  print(mergeLineup(pokemon_1, pokemon_2))\n",
        "\n",
        "Sample Output:\n",
        "[4,17,6,27,2]\n",
        "\n",
        "Explanation:\n",
        "4+None(0) = 4      {pokemon_1[0]+pokemon_2[4]}, \\\n",
        "5+12 = 17             {pokemon_1[1]+pokemon_2[3]}, \\\n",
        "-1+7 = 6               {pokemon_1[2]+pokemon_2[2]}, \\\n",
        "None(0)+27 = 27 {pokemon_1[3]+pokemon_2[1]}, \\\n",
        "None(0)+2 = 2     {pokemon_1[4]+pokemon_2[0]}\n",
        "\n",
        "Sample Input / Driver Code:\\\n",
        "pokemon_1: [12, 3, 25, 1, None]\\\n",
        "pokemon_2: [5, -9, 3, None, None]\n",
        "\n",
        "Function Call:  print(mergeLineup(pokemon_1, pokemon_2))\\\n",
        "Sample Output:\n",
        "[12, 3, 28, -8, 5]\n"
      ],
      "metadata": {
        "id": "vUBkQzcVn_YU"
      }
    },
    {
      "cell_type": "code",
      "source": [
        "#Task 01: Merge Lineup\n",
        "def mergeLineup(pokemon_1, pokemon_2):\n",
        "  result = np.array([0]*len(pokemon_1))\n",
        "\n",
        "  #new_arr=np.ones(len(pokemon_1),int)\n",
        "  index_team_1=0\n",
        "  for i in range (len(result )-1,-1,-1):\n",
        "    if pokemon_1[index_team_1]==None:\n",
        "      pokemon_1[index_team_1]=0\n",
        "    if pokemon_2[i]==None:\n",
        "      pokemon_2[i]=0\n",
        "    result [index_team_1]=pokemon_1[index_team_1]+pokemon_2[i]\n",
        "    index_team_1+=1\n",
        "  return result\n",
        "\n",
        "print(\"///  Task 01: Merge Lineup  ///\")\n",
        "pokemon_1 = np.array([12, 3, 25, 1, None])\n",
        "pokemon_2 = np.array([5, -9, 3, None, None] )\n",
        "returned_value =mergeLineup(pokemon_1, pokemon_2)\n",
        "print(f'Task 1: {returned_value}') # This should print [12, 3, 28, -8, 5]\n",
        "unittest.output_test(returned_value, np.array([12, 3, 28, -8, 5]))\n",
        "pokemon_1 = np.array([4, 5, -1, None, None])\n",
        "pokemon_2 = np.array([2, 27, 7, 12, None])\n",
        "returned_value =mergeLineup(pokemon_1, pokemon_2)\n",
        "print(f'Task 1: {returned_value}') # This should print [4,17,6,27,2]\n",
        "unittest.output_test(returned_value, np.array([4,17,6,27,2]))"
      ],
      "metadata": {
        "id": "ZVbY0rzKgRgC",
        "colab": {
          "base_uri": "https://localhost:8080/"
        },
        "outputId": "f2ac2966-e2f3-4222-ff57-e56408865fb5"
      },
      "execution_count": null,
      "outputs": [
        {
          "output_type": "stream",
          "name": "stdout",
          "text": [
            "///  Task 01: Merge Lineup  ///\n",
            "Task 1: [12  3 28 -8  5]\n",
            "Accepted\n",
            "Task 1: [ 4 17  6 27  2]\n",
            "Accepted\n"
          ]
        }
      ]
    },
    {
      "cell_type": "markdown",
      "source": [
        "**2 Discard Cards:**\\\n",
        "You and your friends are playing a card game. You pick n numbers of UNO cards from the deck. The rule of the card game is- one person says a number, t and you have to discard the alternative cards with the same number from your hand without changing the relative position of other cards. Implement the scenario using a proper method which takes the cards in your hands as an array and a number as parameters; and returns the resulting array. The empty spaces are denoted as 0 in the array.\n",
        "Start from deleting the first t.\n",
        "![image.png](data:image/png;base64,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)"
      ],
      "metadata": {
        "id": "XC5Jwgj1o3lE"
      }
    },
    {
      "cell_type": "code",
      "source": [
        "# Task 02: Discard Cards\n",
        "\n",
        "def discardCards(cards, t):\n",
        "  flag=True\n",
        "  for i in range(0,len(cards)):\n",
        "    if cards[i]!= t:\n",
        "      #print(i,\"line7\")\n",
        "      pass\n",
        "    else:\n",
        "      if flag==True:\n",
        "\n",
        "        for j in range(i, len(cards)-1):\n",
        "          cards[j] = cards[j+1]\n",
        "        #print(cards,'line 13')\n",
        "        cards[len(cards)-1] = 0\n",
        "        if cards[i]==t:\n",
        "          flag=True\n",
        "        else:\n",
        "          flag=False\n",
        "      else:\n",
        "        flag=True\n",
        "\n",
        "  return cards\n",
        "'''\n",
        "  index=-1\n",
        "  checking=True\n",
        "  while checking:\n",
        "    index+=1\n",
        "    if cards[index]!= t:\n",
        "      pass\n",
        "    else:\n",
        "      for x in range(index,len(cards)-1):\n",
        "        cards[x+1],cards[x]=cards[x],cards[x+1]\n",
        "      cards[len(cards)-1]=0\n",
        "      index-=1\n",
        "    if index==len(cards)-1:\n",
        "      checking=False\n",
        "\n",
        "\n",
        "#Delete from array\n",
        "def delete(arr, indx):\n",
        "    for i in range(indx, len(arr)-1):\n",
        "        arr[i] = arr[i+1]\n",
        "    arr[len(arr)-1] = 0\n",
        "    return arr\n",
        "    # pass\n",
        "\n",
        "# Test 02: Discard Cards\n",
        "def discardCards(cards,number):\n",
        "  i = 0\n",
        "  while i < len(cards):\n",
        "    if cards[i] == number:\n",
        "        delete(cards, i)\n",
        "    else:\n",
        "        i+=1\n",
        "  return cards\n",
        "'''\n",
        "\n",
        "print(\"///  Task 02: Discard Cards  ///\")\n",
        "cards = np.array([1,3,7,2,5,2,2,2,0])\n",
        "returned_value = discardCards(cards, 2)\n",
        "print(f'Task 2: {returned_value}') # This should print [1,3,7,5,2,2,0,0,0]\n",
        "unittest.output_test(returned_value, np.array([1,3,7,5,2,2,0,0,0]))\n",
        "\n",
        "cards = np.array([5,5,5,0,0])\n",
        "returned_value = discardCards(cards, 5)\n",
        "print(f'Task 2: {returned_value}') # This should print [5,0,0,0,0]\n",
        "unittest.output_test(returned_value, np.array([5,0,0,0,0]))"
      ],
      "metadata": {
        "id": "rzaysRSshRbM",
        "colab": {
          "base_uri": "https://localhost:8080/"
        },
        "outputId": "da09f670-3518-403e-8212-3647f658622e"
      },
      "execution_count": null,
      "outputs": [
        {
          "output_type": "stream",
          "name": "stdout",
          "text": [
            "///  Task 02: Discard Cards  ///\n",
            "Task 2: [1 3 7 5 2 2 0 0 0]\n",
            "Accepted\n",
            "Task 2: [5 0 0 0 0]\n",
            "Accepted\n"
          ]
        }
      ]
    },
    {
      "cell_type": "code",
      "source": [
        "# Task 02: Discard Cards\n",
        "def discardCards(cards, t):\n",
        "  arr=np.zeros(len(cards),dtype=int)\n",
        "  c=0\n",
        "  count=0\n",
        "  for i in range(len(cards)):\n",
        "    if cards[i]==t:\n",
        "      count+=1\n",
        "      if count%2==0:\n",
        "        arr[c]=cards[i]\n",
        "        c+=1\n",
        "    else:\n",
        "      arr[c]=cards[i]\n",
        "      c+=1\n",
        "  return arr\n",
        "\n",
        "\n",
        "\n",
        "print(\"///  Task 02: Discard Cards  ///\")\n",
        "cards = np.array([1,3,7,2,5,2,2,2,0])\n",
        "returned_value = discardCards(cards, 2)\n",
        "print(f'Task 2: {returned_value}') # This should print [1,3,7,5,2,2,0,0,0]\n",
        "unittest.output_test(returned_value, np.array([1,3,7,5,2,2,0,0,0]))\n",
        "\n",
        "cards = np.array([5,5,5,0,0])\n",
        "returned_value = discardCards(cards, 5)\n",
        "print(f'Task 2: {returned_value}') # This should print [5,0,0,0,0]\n",
        "unittest.output_test(returned_value, np.array([5,0,0,0,0]))"
      ],
      "metadata": {
        "colab": {
          "base_uri": "https://localhost:8080/"
        },
        "id": "0taAkHQWlzA4",
        "outputId": "e8fa3178-87a1-4182-a166-d497fc45b65d"
      },
      "execution_count": null,
      "outputs": [
        {
          "output_type": "stream",
          "name": "stdout",
          "text": [
            "///  Task 02: Discard Cards  ///\n",
            "Task 2: [1 3 7 5 2 2 0 0 0]\n",
            "Accepted\n",
            "Task 2: [5 0 0 0 0]\n",
            "Accepted\n"
          ]
        }
      ]
    },
    {
      "cell_type": "markdown",
      "source": [
        "**3 DUBER Fare Splitting:**\\\n",
        "Suppose, you and your whole group just finished the CSE220 class in BracU at 5PM. All of you are going to the Oppenheimer screening at Bashundhara. You know that now the buses will be the most congested, so you decide to go by DUBER. DUBER is a ride sharing app like UBER which can take **at most** two passengers. Each DUBER car has the same amount of fare but all of you have variable amounts of money with you. So now, you need to split up in groups of **at most** 2 so that the total amount of money of the group is equal to the fare of a DUBER car so that you can pay easily. Now given an array of the amount of money each of you have, write a program to find and print groups of maximum 2 that have a total amount of money exactly equal to the fare. If someone can not be grouped in such a way, **create an array with them and print the ungrouped array.**\\\n",
        "[Printing the group numbers is optional]\n",
        "\n",
        "Hint:\n",
        "* You do not need to create arrays of the eligible groups; print them inside the function only.\n",
        "* Group Member serial or group serial does not matter\n",
        "* You need to create an array of ungrouped members and print.\n",
        "\n",
        "![image.png](data:image/png;base64,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)"
      ],
      "metadata": {
        "id": "y33dHX-ypXVc"
      }
    },
    {
      "cell_type": "code",
      "source": [
        "# Task 03: DUBER Fare Splitting\n",
        "def findGroups(money, fare):\n",
        "  c=1\n",
        "  l= \"\"\n",
        "  for i in range (len(money)):\n",
        "    if money[i]!=None:\n",
        "        if money[i]==fare:\n",
        "          print('Group',c,\":\",money[i],'line 7')\n",
        "          c+=1\n",
        "        else :\n",
        "          x=fare-money[i]\n",
        "          if x in money:\n",
        "            print( 'Group', c ,\":\", money[i],\",\",x )\n",
        "            c+=1\n",
        "            for j in range(i,len(money)):\n",
        "              if x== money[j]:\n",
        "                money[j]=-999\n",
        "                break\n",
        "          else:\n",
        "            if  money[i]!=-999:\n",
        "              l +=str( money[i])+\" \"\n",
        "  print(\"Ungrouped :\",l)\n",
        "  # TO DO\n",
        "  # Print outputs inside the method\n",
        "\n",
        "print(\"///  Task 03: DUBER Fare Splitting  ///\")\n",
        "money = np.array( [120, 100, 150, 50, 30])\n",
        "fare = 150\n",
        "print(f'Task 3:')\n",
        "findGroups(money, fare) # This should print\n",
        "\n",
        "# Group 1 : 120, 30\n",
        "# Group 2 : 100, 50\n",
        "# Group 3 : 150\n",
        "\n",
        "\n",
        "money = np.array( [60, 150, 60, 30, 120, 30])\n",
        "fare = 180\n",
        "print(f'Task 3:')\n",
        "findGroups(money, fare) # This should print\n",
        "\n",
        "# Group 1 : 60, 120\n",
        "# Group 2 : 30, 150\n",
        "# Ungrouped : 30 60"
      ],
      "metadata": {
        "id": "CYtNF5M8itbB",
        "colab": {
          "base_uri": "https://localhost:8080/"
        },
        "outputId": "072fc424-ccc3-4d3b-c6c1-92342b0e384f"
      },
      "execution_count": null,
      "outputs": [
        {
          "output_type": "stream",
          "name": "stdout",
          "text": [
            "///  Task 03: DUBER Fare Splitting  ///\n",
            "Task 3:\n",
            "Group 1 : 120 , 30\n",
            "Group 2 : 100 , 50\n",
            "Group 3 : 150 line 7\n",
            "Ungrouped : \n",
            "Task 3:\n",
            "Group 1 : 60 , 120\n",
            "Group 2 : 150 , 30\n",
            "Group 3 : 30 , 150\n",
            "Ungrouped : 60 \n"
          ]
        }
      ]
    },
    {
      "cell_type": "code",
      "source": [
        "# Task 03: DUBER Fare Splitting\n",
        "def findGroups(money, fare):\n",
        "  ungroup=np.zeros(2,dtype=int)\n",
        "  l=0\n",
        "  r=len(money)-1\n",
        "  k=0\n",
        "  while l<r:\n",
        "    if money[l]+money[r]==fare:\n",
        "      k+=1\n",
        "      print(f\"Group{k}: {money[l]}, {money[r]}\")\n",
        "      l+=1\n",
        "      r-=1\n",
        "    else:\n",
        "      ungroup[0],ungroup[1]=money[r],money[l]\n",
        "      r-=1\n",
        "  if ungroup[0]!=0 and ungroup[1]!=0:\n",
        "    print(f\"Ugrouped:{ungroup[0]} {ungroup[1]}\")\n",
        "  if len(money)%2!=0:\n",
        "    if money[(len(money)//2)]==fare:\n",
        "      k+=1\n",
        "      print(f\"Group{k}: {money[len(money)//2]}\")\n",
        "    else:\n",
        "      print(f\"Ungrouped: {money[len(money)//2]}\")\n",
        "\n",
        "\n",
        "print(\"///  Task 03: DUBER Fare Splitting  ///\")\n",
        "money = np.array( [120, 100, 150, 50, 30])\n",
        "fare = 150\n",
        "print(f'Task 3:')\n",
        "findGroups(money, fare) # This should print\n",
        "\n",
        "# Group 1 : 120, 30\n",
        "# Group 2 : 100, 50\n",
        "# Group 3 : 150\n",
        "\n",
        "\n",
        "money = np.array( [60, 150, 60, 30, 120, 30])\n",
        "fare = 180\n",
        "print(f'Task 3:')\n",
        "findGroups(money, fare) # This should print\n",
        "\n",
        "# Group 1 : 60, 120\n",
        "# Group 2 : 30, 150\n",
        "# Ungrouped : 30 60"
      ],
      "metadata": {
        "colab": {
          "base_uri": "https://localhost:8080/"
        },
        "id": "Sbaek90Yl9Ah",
        "outputId": "19267c31-10c3-447b-b703-0c77db655082"
      },
      "execution_count": null,
      "outputs": [
        {
          "output_type": "stream",
          "name": "stdout",
          "text": [
            "///  Task 03: DUBER Fare Splitting  ///\n",
            "Task 3:\n",
            "Group1: 120, 30\n",
            "Group2: 100, 50\n",
            "Group3: 150\n",
            "Task 3:\n",
            "Group1: 60, 120\n",
            "Group2: 150, 30\n",
            "Ugrouped:30 60\n"
          ]
        }
      ]
    },
    {
      "cell_type": "code",
      "source": [
        "#Task 03: DUBER Fare Splitting\n",
        "def findGroups(money, fare):\n",
        "  # print(money,fare)\n",
        "    # TO DO\n",
        "    # Print outputs inside the method\n",
        "    lst=np.zeros(len(money))\n",
        "    group = 1\n",
        "    for i in range(len(money)):\n",
        "      for j in range(len(money)):\n",
        "        if j>i:\n",
        "          if money[i]+money[j]==fare:\n",
        "            if lst[i]==0 and lst[j]==0:\n",
        "              print(f'Group {group}: {money[i]}, { money[j]}')\n",
        "              lst[i]=1\n",
        "              lst[j]=1\n",
        "              group +=1\n",
        "            else:\n",
        "              continue\n",
        "          else:\n",
        "            continue\n",
        "    flag = False\n",
        "    strn = ''\n",
        "    for i in range(len(lst)):\n",
        "      if lst[i]==0:\n",
        "        if not flag:\n",
        "            if money[i]==fare:\n",
        "                print(f'Group {group}: {money[i]}')\n",
        "            else:\n",
        "                strn += 'Ungrouped : '\n",
        "                strn += f\"{str(money[i])} \"\n",
        "                flag = True\n",
        "\n",
        "        else:\n",
        "          strn += f\"{str(money[i])} \"\n",
        "      else:\n",
        "        continue\n",
        "    if flag:\n",
        "      print(strn)\n",
        "\n",
        "\n",
        "\n",
        "\n",
        "\n",
        "print(\"///  Task 03: DUBER Fare Splitting  ///\")\n",
        "money = np.array( [120, 100, 150, 50, 30])\n",
        "fare = 150\n",
        "print(f'Task 3:')\n",
        "findGroups(money, fare) # This should print\n",
        "\n",
        "#Group 1 : 120, 30\n",
        "#Group 2 : 100, 50\n",
        "#Group 3 : 150\n",
        "money = np.array( [60, 150, 60, 30, 120, 30])\n",
        "fare = 180\n",
        "print(f'Task 3:')\n",
        "findGroups(money, fare) # This should print\n",
        "\n",
        "#Group 1 : 60, 120\n",
        "#Group 2 : 30, 150\n",
        "#Ungrouped : 30 60"
      ],
      "metadata": {
        "colab": {
          "base_uri": "https://localhost:8080/"
        },
        "id": "iKZH8SJdv8kb",
        "outputId": "94bc4ad6-d65f-4bd6-8b86-6dfeafc98de1"
      },
      "execution_count": null,
      "outputs": [
        {
          "output_type": "stream",
          "name": "stdout",
          "text": [
            "///  Task 03: DUBER Fare Splitting  ///\n",
            "Task 3:\n",
            "Group 1: 120, 30\n",
            "Group 2: 100, 50\n",
            "Group 3: 150\n",
            "Task 3:\n",
            "Group 1: 60, 120\n",
            "Group 2: 150, 30\n",
            "Ungrouped : 60 30 \n"
          ]
        }
      ]
    },
    {
      "cell_type": "markdown",
      "source": [
        "**4 Get Those Hobbies:**\\\n",
        "Imagine you are conducting a survey to gather information about people's preferences in a small town. Participants are asked to provide an array of their favorite activities or hobbies. As the survey responses come in, you want to analyze the unique activities that people in the town enjoy. Based on the scenario, design a proper method which takes people’s hobbies as arrays and prints how many participants enjoy each hobby inside the method.\n",
        "\n",
        "Hint: Your method should work for a variable number of arrays passed as parameters. You may or may not create a new array.\n",
        "\n",
        "Sample Input / Driver Code:\\\n",
        "participant_1 = [\"Hiking\", \"Reading\", \"Photography\", \"Cooking\"]\\\n",
        "participant_2 = [\"Reading\", \"Hiking\", \"Painting\"]\\\n",
        "participant_3 = [\"Hiking\", \"Cooking\", \"Photography\"]\n",
        "\n",
        "\n",
        "Function Call:  print(analyzeHobbies(participant_1, participant_2, participant_3))\n",
        "\n",
        "Sample Output:\n",
        "Unique Activities in the Town:\n",
        "['Photography', 'Painting', 'Cooking', 'Reading', 'Hiking']\n",
        "\n",
        "Statistics:\\\n",
        "2 participant(s) like(s) Photography.\\\n",
        "1 participant(s) like(s) Painting.\\\n",
        "2 participant(s) like(s) Cooking.\\\n",
        "2 participant(s) like(s) Reading.\\\n",
        "3 participant(s) like(s) Hiking.\n",
        "\n",
        "Sample Input / Driver Code:\\\n",
        "participant_1 = [\"Gardening\", \"Traveling\"]\\\n",
        "participant_2 = [\"Singing\", \"Gardening\", \"Painting\"]\n",
        "\n",
        "Function Call:  print(analyzeHobbies(participant_1, participant_2))\n",
        "\n",
        "Sample Output:\\\n",
        "Unique Activities in the Town:\\\n",
        "[Gardening, Traveling, Singing, Painting]\n",
        "\n",
        "Statistics:\\\n",
        "2 participant(s) like(s) Gardening.\\\n",
        "1 participant(s) like(s) Traveling.\\\n",
        "1 participant(s) like(s) Singing.\\\n",
        "1 participant(s) like(s) Painting.\n",
        "\n",
        "\n"
      ],
      "metadata": {
        "id": "_rebJxktqn-q"
      }
    },
    {
      "cell_type": "code",
      "source": [
        "def findGroups(money, fare):\n",
        "  # print(money,fare)\n",
        "    # TO DO\n",
        "    # Print outputs inside the method\n",
        "    lst=np.zeros(len(money))\n",
        "    group = 1\n",
        "    for i in range(len(money)):\n",
        "      for j in range(len(money)):\n",
        "        if j>i:\n",
        "          if money[i]+money[j]==fare:\n",
        "            if lst[i]==0 and lst[j]==0:\n",
        "              print(f'Group {group}: {money[i]}, { money[j]}')\n",
        "              lst[i]=1\n",
        "              lst[j]=1\n",
        "              group +=1\n",
        "            else:\n",
        "              continue\n",
        "          else:\n",
        "            continue\n",
        "    flag = False\n",
        "    strn = ''\n",
        "    for i in range(len(lst)):\n",
        "      if lst[i]==0:\n",
        "        if not flag:\n",
        "          strn += 'Ungrouped : '\n",
        "          strn += f\"{str(money[i])} \"\n",
        "          flag = True\n",
        "\n",
        "        else:\n",
        "          strn += f\"{str(money[i])} \"\n",
        "      else:\n",
        "        continue\n",
        "    if flag:\n",
        "      print(strn)\n",
        "\n",
        "\n",
        "\n",
        "\n",
        "\n",
        "print(\"///  Task 03: DUBER Fare Splitting  ///\")\n",
        "money = np.array( [120, 100, 150, 50, 30])\n",
        "fare = 150\n",
        "print(f'Task 3:')\n",
        "findGroups(money, fare) # This should print\n",
        "money = np.array( [60, 150, 60, 30, 120, 30])\n",
        "fare = 180\n",
        "print(f'Task 3:')\n",
        "findGroups(money, fare) # This should print\n"
      ],
      "metadata": {
        "colab": {
          "base_uri": "https://localhost:8080/"
        },
        "id": "IRHXzQcgjdmB",
        "outputId": "413b2104-1e70-49df-f78b-ad8ea98a6327"
      },
      "execution_count": null,
      "outputs": [
        {
          "output_type": "stream",
          "name": "stdout",
          "text": [
            "///  Task 03: DUBER Fare Splitting  ///\n",
            "Task 3:\n",
            "Group 1: 120, 30\n",
            "Group 2: 100, 50\n",
            "Ungrouped : 150 \n",
            "Task 3:\n",
            "Group 1: 60, 120\n",
            "Group 2: 150, 30\n",
            "Ungrouped : 60 30 \n"
          ]
        }
      ]
    },
    {
      "cell_type": "code",
      "source": [
        "'''\n",
        "def analyzeHobbies(* participants): #(* arguments) is used for variable number of parameters\n",
        "  #TO DO\n",
        "  #Print inside the function\n",
        "\n",
        "print(\"///  Task 04: Get Those Hobbies  ///\")\n",
        "participant_1 = np.array( [\"Hiking\", \"Reading\", \"Photography\", \"Cooking\"])\n",
        "participant_2 = np.array( [\"Reading\", \"Hiking\", \"Painting\"])\n",
        "participant_3 = np.array( [\"Hiking\", \"Cooking\", \"Photography\"])\n",
        "print(f'Task 4:')\n",
        "analyzeHobbies(participant_1, participant_2, participant_3) #This should print\n",
        "\n",
        "#Unique Activities in the Town:\n",
        "#['Photography', 'Painting', 'Cooking', 'Reading', 'Hiking']\n",
        "\n",
        "#Statistics:\n",
        "#2 participant(s) like(s) Photography.\n",
        "#1 participant(s) like(s) Painting.\n",
        "#2 participant(s) like(s) Cooking.\n",
        "#2 participant(s) like(s) Reading.\n",
        "#3 participant(s) like(s) Hiking.\n",
        "\n",
        "\n",
        "\n",
        "participant_1 = np.array( [\"Gardening\", \"Traveling\"])\n",
        "participant_2 = np.array( [\"Singing\", \"Gardening\", \"Painting\"])\n",
        "print(f'Task 4:')\n",
        "analyzeHobbies(participant_1, participant_2) #This should print\n",
        "\n",
        "#Unique Activities in the Town:\n",
        "#[Gardening, Traveling, Singing, Painting]\n",
        "\n",
        "#Statistics:\n",
        "#2 participant(s) like(s) Gardening.\n",
        "#1 participant(s) like(s) Traveling.\n",
        "#1 participant(s) like(s) Singing.\n",
        "#1 participant(s) like(s) Painting.\n",
        "'''"
      ],
      "metadata": {
        "id": "SzBe-ByVmV8G",
        "colab": {
          "base_uri": "https://localhost:8080/",
          "height": 123
        },
        "outputId": "a2344ae7-16a4-4f19-c236-dd64f316b6ea"
      },
      "execution_count": null,
      "outputs": [
        {
          "output_type": "execute_result",
          "data": {
            "text/plain": [
              "'\\ndef analyzeHobbies(* participants): #(* arguments) is used for variable number of parameters\\n  #TO DO\\n  #Print inside the function\\n\\nprint(\"///  Task 04: Get Those Hobbies  ///\")\\nparticipant_1 = np.array( [\"Hiking\", \"Reading\", \"Photography\", \"Cooking\"])\\nparticipant_2 = np.array( [\"Reading\", \"Hiking\", \"Painting\"])\\nparticipant_3 = np.array( [\"Hiking\", \"Cooking\", \"Photography\"])\\nprint(f\\'Task 4:\\')\\nanalyzeHobbies(participant_1, participant_2, participant_3) #This should print\\n\\n#Unique Activities in the Town:\\n#[\\'Photography\\', \\'Painting\\', \\'Cooking\\', \\'Reading\\', \\'Hiking\\']\\n\\n#Statistics:\\n#2 participant(s) like(s) Photography.\\n#1 participant(s) like(s) Painting.\\n#2 participant(s) like(s) Cooking.\\n#2 participant(s) like(s) Reading.\\n#3 participant(s) like(s) Hiking.\\n\\n\\n\\nparticipant_1 = np.array( [\"Gardening\", \"Traveling\"])\\nparticipant_2 = np.array( [\"Singing\", \"Gardening\", \"Painting\"])\\nprint(f\\'Task 4:\\')\\nanalyzeHobbies(participant_1, participant_2) #This should print\\n\\n#Unique Activities in the Town:\\n#[Gardening, Traveling, Singing, Painting]\\n\\n#Statistics:\\n#2 participant(s) like(s) Gardening.\\n#1 participant(s) like(s) Traveling.\\n#1 participant(s) like(s) Singing.\\n#1 participant(s) like(s) Painting.\\n'"
            ],
            "application/vnd.google.colaboratory.intrinsic+json": {
              "type": "string"
            }
          },
          "metadata": {},
          "execution_count": 98
        }
      ]
    },
    {
      "cell_type": "code",
      "source": [
        "# Task 04: Get Those Hobbies\n",
        "def analyzeHobbies(* participants): #(* arguments) is used for variable number of parameters\n",
        "  # TO DO\n",
        "  # Print outputs inside the method\n",
        "    arr = np.empty(100, dtype=object)\n",
        "    c = 0\n",
        "\n",
        "\n",
        "    for i in participants:\n",
        "        for j in i:\n",
        "            if j not in arr:\n",
        "                arr[c] = j\n",
        "                c += 1\n",
        "    new=np.empty(c, dtype=object)\n",
        "    m=0\n",
        "    for i in arr:\n",
        "      if i!=None:\n",
        "        new[m]=i\n",
        "        m+=1\n",
        "\n",
        "    print(f'Unique Activities in the Town:\\n{new}')\n",
        "    print(\"Statictics:\")\n",
        "    for h in new:\n",
        "      s=0\n",
        "      for n in participants:\n",
        "        if h in n:\n",
        "          s+=1\n",
        "      print(f\"{s} participant(s) like(s) {h}.\")\n",
        "\n",
        "\n",
        "\n",
        "\n",
        "\n",
        "\n",
        "\n",
        "print(\"///  Task 04: Get Those Hobbies  ///\")\n",
        "participant_1 = np.array( [\"Hiking\", \"Reading\", \"Photography\", \"Cooking\"])\n",
        "participant_2 = np.array( [\"Reading\", \"Hiking\", \"Painting\"])\n",
        "participant_3 = np.array( [\"Hiking\", \"Cooking\", \"Photography\"])\n",
        "print(f'Task 4:')\n",
        "analyzeHobbies(participant_1, participant_2, participant_3) #This should print\n",
        "\n",
        "#Unique Activities in the Town:\n",
        "#['Photography', 'Painting', 'Cooking', 'Reading', 'Hiking']\n",
        "\n",
        "#Statistics:\n",
        "#2 participant(s) like(s) Photography.\n",
        "#1 participant(s) like(s) Painting.\n",
        "#2 participant(s) like(s) Cooking.\n",
        "#2 participant(s) like(s) Reading.\n",
        "#3 participant(s) like(s) Hiking.\n",
        "\n",
        "\n",
        "\n",
        "participant_1 = np.array( [\"Gardening\", \"Traveling\"])\n",
        "participant_2 = np.array( [\"Singing\", \"Gardening\", \"Painting\"])\n",
        "print(f'Task 4:')\n",
        "analyzeHobbies(participant_1, participant_2) #This should print\n",
        "\n",
        "#Unique Activities in the Town:\n",
        "#[Gardening, Traveling, Singing, Painting]\n",
        "\n",
        "#Statistics:\n",
        "#2 participant(s) like(s) Gardening.\n",
        "#1 participant(s) like(s) Traveling.\n",
        "#1 participant(s) like(s) Singing.\n",
        "#1 participant(s) like(s) Painting.\n"
      ],
      "metadata": {
        "colab": {
          "base_uri": "https://localhost:8080/"
        },
        "id": "f98-VlT8mFBs",
        "outputId": "b757486d-6625-495f-eff8-6d7246135d90"
      },
      "execution_count": null,
      "outputs": [
        {
          "output_type": "stream",
          "name": "stdout",
          "text": [
            "///  Task 04: Get Those Hobbies  ///\n",
            "Task 4:\n",
            "Unique Activities in the Town:\n",
            "['Hiking' 'Reading' 'Photography' 'Cooking' 'Painting']\n",
            "Statictics:\n",
            "3 participant(s) like(s) Hiking.\n",
            "2 participant(s) like(s) Reading.\n",
            "2 participant(s) like(s) Photography.\n",
            "2 participant(s) like(s) Cooking.\n",
            "1 participant(s) like(s) Painting.\n",
            "Task 4:\n",
            "Unique Activities in the Town:\n",
            "['Gardening' 'Traveling' 'Singing' 'Painting']\n",
            "Statictics:\n",
            "2 participant(s) like(s) Gardening.\n",
            "1 participant(s) like(s) Traveling.\n",
            "1 participant(s) like(s) Singing.\n",
            "1 participant(s) like(s) Painting.\n"
          ]
        }
      ]
    },
    {
      "cell_type": "code",
      "source": [
        "import numpy as np\n",
        "\n",
        "def analyzeHobbies(*participants):\n",
        "    # Combine all participants' hobbies into a single array\n",
        "    all_hobbies = np.concatenate(participants)\n",
        "\n",
        "    # Get unique hobbies\n",
        "    unique_hobbies = np.unique(all_hobbies)\n",
        "\n",
        "    # Count the number of participants who like each hobby\n",
        "    hobby_counts = {}\n",
        "    for hobby in unique_hobbies:\n",
        "        hobby_counts[hobby] = np.sum([hobby in participant for participant in participants])\n",
        "\n",
        "    # Print the unique activities in the town\n",
        "    print(\"Unique Activities in the Town:\")\n",
        "    print(unique_hobbies)\n",
        "\n",
        "    # Print the statistics\n",
        "    print(\"Statistics:\")\n",
        "    for hobby, count in hobby_counts.items():\n",
        "        print(f\"{count} participant(s) like(s) {hobby}.\")\n",
        "\n",
        "# Test cases\n",
        "participant_1 = np.array( [\"Hiking\", \"Reading\", \"Photography\", \"Cooking\"])\n",
        "participant_2 = np.array( [\"Reading\", \"Hiking\", \"Painting\"])\n",
        "participant_3 = np.array( [\"Hiking\", \"Cooking\", \"Photography\"])\n",
        "analyzeHobbies(participant_1, participant_2, participant_3)\n",
        "\n",
        "participant_1 = np.array( [\"Gardening\", \"Traveling\"])\n",
        "participant_2 = np.array( [\"Singing\", \"Gardening\", \"Painting\"])\n",
        "analyzeHobbies(participant_1, participant_2)"
      ],
      "metadata": {
        "colab": {
          "base_uri": "https://localhost:8080/"
        },
        "id": "IQ2PQxlyFq_V",
        "outputId": "e3bb45a2-3148-4a25-ba31-04fb34fb565b"
      },
      "execution_count": null,
      "outputs": [
        {
          "output_type": "stream",
          "name": "stdout",
          "text": [
            "Unique Activities in the Town:\n",
            "['Cooking' 'Hiking' 'Painting' 'Photography' 'Reading']\n",
            "Statistics:\n",
            "2 participant(s) like(s) Cooking.\n",
            "3 participant(s) like(s) Hiking.\n",
            "1 participant(s) like(s) Painting.\n",
            "2 participant(s) like(s) Photography.\n",
            "2 participant(s) like(s) Reading.\n",
            "Unique Activities in the Town:\n",
            "['Gardening' 'Painting' 'Singing' 'Traveling']\n",
            "Statistics:\n",
            "2 participant(s) like(s) Gardening.\n",
            "1 participant(s) like(s) Painting.\n",
            "1 participant(s) like(s) Singing.\n",
            "1 participant(s) like(s) Traveling.\n"
          ]
        }
      ]
    },
    {
      "cell_type": "markdown",
      "source": [
        "**BONUS UNGRADED TASK**\n",
        "\n",
        "**Look and Say:**\n",
        "There is a particular sequence named ‘Look and Say’ sequence. The sequence begins with a single digit in which the next term is obtained by describing the previous term. For example, we start the sequence with number 1 and then we pronounce the number correctly. As for the number 1, It must be read as \"one 1,\" where “one” represents the total digits of that number .We write the \"one 1\" numerically and we get the number 11. Next we can read 11 as \"two 1.\" So the next number of this sequence is 21. We read 21 as “one 2, one 1”. So the next number of this sequence is 1211. Thus the sequence is: 1, 11, 21, 1211 [read as one 1, one 2, two 1], 111221, ... ...\n",
        "You are given a number where the digits are the elements of a numpy array. Write a method that generates the next number in the look and say sequence and stores it in a new array.\n",
        "Constraint: You cannot use any other datatype [i.e. string] or data structure except for arrays.\n",
        "\n",
        "Hint: The size of the new array will never be more than 100.\n",
        "[You need not worry about the extra zeroes at the end of your resulting array]\n",
        "![image.png](data:image/png;base64,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)"
      ],
      "metadata": {
        "id": "zHmL6wYdrgC8"
      }
    },
    {
      "cell_type": "code",
      "source": [
        "# Bonus Ungraded Task: Look and Say\n",
        "def look_and_say(arr):\n",
        "  new_array=np.zeros(100,dtype=int)\n",
        "  count=1\n",
        "  prev=arr[0]\n",
        "  j=0\n",
        "  for i in range(1,len(arr)):\n",
        "    if arr[i]==prev:\n",
        "      count+=1\n",
        "    else:\n",
        "      new_array[j],new_array[j+1]=count,prev\n",
        "      count=1\n",
        "      prev=arr[i]\n",
        "      j+=2\n",
        "  new_array[j],new_array[j+1]=count,prev\n",
        "  new=np.zeros(j+2,dtype=int)\n",
        "  f=0\n",
        "  for i in range(len(new_array)):\n",
        "     if new_array[i]!=0:\n",
        "       new[f]=new_array[i]\n",
        "       f+=1\n",
        "  return new\n",
        "\n",
        "print(\"///  Bonus Task: Look and Say  ///\")\n",
        "arr = np.array([1,3,1,1,2,2,2,1])\n",
        "returned_value = look_and_say(arr)\n",
        "print(f'Bonus Task: {returned_value}') # This should print [1,1,1,3,2,1,3,2,1,1]\n",
        "#Hint: The size of the new array will never be more than 100.\n",
        "#[You need not worry about the extra zeroes at the end of your resulting array]\n"
      ],
      "metadata": {
        "colab": {
          "base_uri": "https://localhost:8080/"
        },
        "id": "75ABTAVLmNrO",
        "outputId": "21f3a82f-a873-4883-ccad-20e1253aca59"
      },
      "execution_count": null,
      "outputs": [
        {
          "output_type": "stream",
          "name": "stdout",
          "text": [
            "///  Bonus Task: Look and Say  ///\n",
            "Bonus Task: [1 1 1 3 2 1 3 2 1 1]\n"
          ]
        }
      ]
    },
    {
      "cell_type": "markdown",
      "source": [
        "For Assignment Part-1, you can create new code cells in the below and write your codes there. Also you should write driver codes to test your code for part-1."
      ],
      "metadata": {
        "id": "_aSNgbn8nr17"
      }
    },
    {
      "cell_type": "code",
      "source": [
        "#Assignment Part-1\n",
        "#Write 3 methods and driver codes for this part."
      ],
      "metadata": {
        "id": "CxJHbg7onWwN"
      },
      "execution_count": null,
      "outputs": []
    },
    {
      "cell_type": "markdown",
      "source": [
        "**(Playing with Array and Probability Theory)**\\\n",
        "Greetings Students. Do not panic after watching the title of this lab. We are not going to teach\n",
        "you probability theory in depth (at least not in this lab!!!). In this lab, we will play with numbers\n",
        "and arrays. In this lab, you are going to implement something from the scratch!!! The lab task is\n",
        "divided into three parts. What are the parts!!!\n",
        "1. You need to find the mean of a series of numbers stored in an array.\n",
        "2. You need to calculate the sample standard deviation of those numbers.\n",
        "3. You need to create a new array where you will only store the numbers that are at least 1.5 standard deviations away from the mean.\n",
        "If you are wondering “I don’t know all the theories for calculating all these mean and standard\n",
        "deviations!!!!!” Just spare some time to follow the links:\\\n",
        "● How to calculate the mean and standard deviation: https://youtu.be/IaTFpp-uzp0 \\\n",
        "● How to find numbers that are a certain Standard Deviation away from the mean:\n",
        "https://youtu.be/VB-FzD_REfc \\\n",
        "● Mean calculation: https://www.mathsisfun.com/mean.html \\\n",
        "● Standard deviation calculation: https://www.mathsisfun.com/data/standard-deviation-\n",
        "formulas.html (Use Sample Standard Deviation Formula (N - 1))\n",
        "\n",
        "For example, if you are dealing with an array with the following numbers:\\\n",
        "[10, 8, 13, 9, 14, 25, -5, 20, 7, 7, 4]\\\n",
        "The mean of the numbers is: 10.181818181818\\\n",
        "The standard deviation is: 7.96\\\n",
        "New array: [25, -5]\\\n",
        "Explanation:\\\n",
        "The mean of the numbers is 10.18 and the standard deviation is 7.96. Only 25 and -5 are at\n",
        "least 1.5 standard deviations away from the mean. And so the new array’s length is 2 and only\n",
        "two items are copied.\n",
        "\n",
        "Hints to implement this program:\n",
        "1. Create a function that will take an array and return the mean of the values\n",
        "2. Create a function that will take an array and return the standard deviation of the values\n",
        "3. Create a function that will take an array and create a new array whose length will be the\n",
        "total number of values of the array which are 1.5 standard deviations away from the\n",
        "mean of that array. Finally, return the new array. If there is no such value then return\n",
        "None.\n",
        "4. Write the driver code and call the above-created functions. You can use an array with\n",
        "your preferable length and values to test your program.\n",
        "\n",
        "Try this code, solving this might be a fun experience. And remember,\n",
        "Confusion is part of programming. ― Felienne Hermans\n",
        "\n",
        "PS: Plagiarism will not be tolerated."
      ],
      "metadata": {
        "id": "vYBx89AvsHe3"
      }
    },
    {
      "cell_type": "code",
      "source": [
        "import math\n",
        "\n",
        "def standardDeviation(arr):\n",
        "  s = 0\n",
        "  for i in arr:\n",
        "    temp = (i-xBar)**2\n",
        "    s+=temp\n",
        "  global stdDev\n",
        "  stdDev = s/(n-1)\n",
        "  stdDev = math.sqrt(stdDev)\n",
        "  return f\"{stdDev:.3}\"\n",
        "\n",
        "\n",
        "def meanValue(arr):\n",
        "    global sum\n",
        "    global n\n",
        "    n = len(arr)\n",
        "    sum = 0\n",
        "    for i in arr:\n",
        "        sum += i\n",
        "    global xBar\n",
        "    xBar = sum/n\n",
        "    return xBar\n",
        "\n",
        "def newArr(arr, min, stdDev):\n",
        "  temp = np.array([None]*n)\n",
        "  count = 0\n",
        "  for i in range(n):\n",
        "    if abs(arr[i] - min) >= stdDev*1.5:\n",
        "      temp[count] = arr[i]\n",
        "      count += 1\n",
        "\n",
        "  count = 0\n",
        "  for i in temp:\n",
        "    if i == None: break\n",
        "    if i is not None:\n",
        "      count += 1\n",
        "  if count == 0:\n",
        "    return None\n",
        "\n",
        "  new = np.empty(count, dtype = int)\n",
        "  for i in range(count):\n",
        "    new[i] = temp[i]\n",
        "  return new\n",
        "\n",
        "given = np.array([10, 8, 13, 9, 14, 25, -5, 20, 7, 7, 4])\n",
        "print(f\"The mean of the numbers is: {meanValue(given)}\")\n",
        "print(f\"The standard deviation is: {standardDeviation(given)}\")\n",
        "print(f\"New Array: {newArr(given, xBar, stdDev)}\")\n"
      ],
      "metadata": {
        "id": "s-dXmnPUuJqu",
        "colab": {
          "base_uri": "https://localhost:8080/"
        },
        "outputId": "1d0e8f4a-86ee-4205-cc6b-58176ae01212"
      },
      "execution_count": null,
      "outputs": [
        {
          "output_type": "stream",
          "name": "stdout",
          "text": [
            "The mean of the numbers is: 10.181818181818182\n",
            "The standard deviation is: 7.96\n",
            "New Array: [25 -5]\n"
          ]
        }
      ]
    },
    {
      "cell_type": "code",
      "source": [],
      "metadata": {
        "id": "dPNvUeF70Ou-"
      },
      "execution_count": null,
      "outputs": []
    }
  ]
}